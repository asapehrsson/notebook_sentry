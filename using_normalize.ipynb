{
 "cells": [
  {
   "cell_type": "code",
   "execution_count": 1,
   "metadata": {},
   "outputs": [],
   "source": [
    "import json \n",
    "import pandas as pd \n",
    "from pandas.io.json import json_normalize "
   ]
  },
  {
   "cell_type": "code",
   "execution_count": 61,
   "metadata": {},
   "outputs": [],
   "source": [
    "with open('/Users/asapehrsson/dev/learn/notebook_sentry/events.json') as f:\n",
    "    raw = json.load(f)"
   ]
  },
  {
   "cell_type": "code",
   "execution_count": 62,
   "metadata": {},
   "outputs": [
    {
     "data": {
      "text/plain": [
       "list"
      ]
     },
     "execution_count": 62,
     "metadata": {},
     "output_type": "execute_result"
    }
   ],
   "source": [
    "type(raw)\n"
   ]
  },
  {
   "cell_type": "code",
   "execution_count": 63,
   "metadata": {},
   "outputs": [],
   "source": [
    "def flatten_event(y):\n",
    "    out = []\n",
    "    for x in y:\n",
    "        item = {}\n",
    "        item.update(x['contexts']['device'])\n",
    "        item['version'] = x['contexts']['os']['version']\n",
    "        item['created'] = x['dateCreated']\n",
    "        out.append(item)\n",
    "    return out"
   ]
  },
  {
   "cell_type": "code",
   "execution_count": 64,
   "metadata": {},
   "outputs": [],
   "source": [
    "event = flatten_event(raw)"
   ]
  },
  {
   "cell_type": "code",
   "execution_count": 65,
   "metadata": {},
   "outputs": [
    {
     "data": {
      "text/plain": [
       "list"
      ]
     },
     "execution_count": 65,
     "metadata": {},
     "output_type": "execute_result"
    }
   ],
   "source": [
    "type(event)"
   ]
  },
  {
   "cell_type": "code",
   "execution_count": 66,
   "metadata": {},
   "outputs": [
    {
     "name": "stdout",
     "output_type": "stream",
     "text": [
      "(100, 22)\n"
     ]
    },
    {
     "data": {
      "text/html": [
       "<div>\n",
       "<style scoped>\n",
       "    .dataframe tbody tr th:only-of-type {\n",
       "        vertical-align: middle;\n",
       "    }\n",
       "\n",
       "    .dataframe tbody tr th {\n",
       "        vertical-align: top;\n",
       "    }\n",
       "\n",
       "    .dataframe thead th {\n",
       "        text-align: right;\n",
       "    }\n",
       "</style>\n",
       "<table border=\"1\" class=\"dataframe\">\n",
       "  <thead>\n",
       "    <tr style=\"text-align: right;\">\n",
       "      <th></th>\n",
       "      <th>arch</th>\n",
       "      <th>battery_level</th>\n",
       "      <th>brand</th>\n",
       "      <th>charging</th>\n",
       "      <th>created</th>\n",
       "      <th>family</th>\n",
       "      <th>free_memory</th>\n",
       "      <th>free_storage</th>\n",
       "      <th>low_memory</th>\n",
       "      <th>manufacturer</th>\n",
       "      <th>...</th>\n",
       "      <th>model_id</th>\n",
       "      <th>online</th>\n",
       "      <th>orientation</th>\n",
       "      <th>screen_density</th>\n",
       "      <th>screen_dpi</th>\n",
       "      <th>screen_resolution</th>\n",
       "      <th>simulator</th>\n",
       "      <th>storage_size</th>\n",
       "      <th>type</th>\n",
       "      <th>version</th>\n",
       "    </tr>\n",
       "  </thead>\n",
       "  <tbody>\n",
       "    <tr>\n",
       "      <th>0</th>\n",
       "      <td>arm64-v8a</td>\n",
       "      <td>40.0</td>\n",
       "      <td>Lenovo</td>\n",
       "      <td>False</td>\n",
       "      <td>2018-08-29T14:50:19Z</td>\n",
       "      <td>Lenovo</td>\n",
       "      <td>719577088</td>\n",
       "      <td>4008108032</td>\n",
       "      <td>False</td>\n",
       "      <td>LENOVO</td>\n",
       "      <td>...</td>\n",
       "      <td>NMF26F</td>\n",
       "      <td>False</td>\n",
       "      <td>portrait</td>\n",
       "      <td>1.000</td>\n",
       "      <td>160</td>\n",
       "      <td>1232x800</td>\n",
       "      <td>False</td>\n",
       "      <td>9488670720</td>\n",
       "      <td>device</td>\n",
       "      <td>7.1.1</td>\n",
       "    </tr>\n",
       "    <tr>\n",
       "      <th>1</th>\n",
       "      <td>arm64-v8a</td>\n",
       "      <td>92.0</td>\n",
       "      <td>samsung</td>\n",
       "      <td>False</td>\n",
       "      <td>2018-08-29T12:12:19Z</td>\n",
       "      <td>SM-G955F</td>\n",
       "      <td>1189105664</td>\n",
       "      <td>36814761984</td>\n",
       "      <td>False</td>\n",
       "      <td>samsung</td>\n",
       "      <td>...</td>\n",
       "      <td>R16NW</td>\n",
       "      <td>False</td>\n",
       "      <td>portrait</td>\n",
       "      <td>2.625</td>\n",
       "      <td>420</td>\n",
       "      <td>2094x1080</td>\n",
       "      <td>False</td>\n",
       "      <td>57960366080</td>\n",
       "      <td>device</td>\n",
       "      <td>8.0.0</td>\n",
       "    </tr>\n",
       "    <tr>\n",
       "      <th>2</th>\n",
       "      <td>arm64-v8a</td>\n",
       "      <td>41.0</td>\n",
       "      <td>samsung</td>\n",
       "      <td>False</td>\n",
       "      <td>2018-08-29T06:27:05Z</td>\n",
       "      <td>SM-G955F</td>\n",
       "      <td>1083781120</td>\n",
       "      <td>36830056448</td>\n",
       "      <td>False</td>\n",
       "      <td>samsung</td>\n",
       "      <td>...</td>\n",
       "      <td>R16NW</td>\n",
       "      <td>False</td>\n",
       "      <td>portrait</td>\n",
       "      <td>2.625</td>\n",
       "      <td>420</td>\n",
       "      <td>2094x1080</td>\n",
       "      <td>False</td>\n",
       "      <td>57960366080</td>\n",
       "      <td>device</td>\n",
       "      <td>8.0.0</td>\n",
       "    </tr>\n",
       "    <tr>\n",
       "      <th>3</th>\n",
       "      <td>arm64-v8a</td>\n",
       "      <td>42.0</td>\n",
       "      <td>samsung</td>\n",
       "      <td>False</td>\n",
       "      <td>2018-08-29T06:15:35Z</td>\n",
       "      <td>SM-G955F</td>\n",
       "      <td>1049411584</td>\n",
       "      <td>36830810112</td>\n",
       "      <td>False</td>\n",
       "      <td>samsung</td>\n",
       "      <td>...</td>\n",
       "      <td>R16NW</td>\n",
       "      <td>False</td>\n",
       "      <td>portrait</td>\n",
       "      <td>2.625</td>\n",
       "      <td>420</td>\n",
       "      <td>2094x1080</td>\n",
       "      <td>False</td>\n",
       "      <td>57960366080</td>\n",
       "      <td>device</td>\n",
       "      <td>8.0.0</td>\n",
       "    </tr>\n",
       "    <tr>\n",
       "      <th>4</th>\n",
       "      <td>armeabi-v7a</td>\n",
       "      <td>87.0</td>\n",
       "      <td>samsung</td>\n",
       "      <td>False</td>\n",
       "      <td>2018-08-28T11:11:56Z</td>\n",
       "      <td>SM-G390F</td>\n",
       "      <td>583737344</td>\n",
       "      <td>5412290560</td>\n",
       "      <td>False</td>\n",
       "      <td>samsung</td>\n",
       "      <td>...</td>\n",
       "      <td>NRD90M</td>\n",
       "      <td>False</td>\n",
       "      <td>portrait</td>\n",
       "      <td>2.000</td>\n",
       "      <td>320</td>\n",
       "      <td>1280x720</td>\n",
       "      <td>False</td>\n",
       "      <td>12116492288</td>\n",
       "      <td>device</td>\n",
       "      <td>7.0</td>\n",
       "    </tr>\n",
       "  </tbody>\n",
       "</table>\n",
       "<p>5 rows × 22 columns</p>\n",
       "</div>"
      ],
      "text/plain": [
       "          arch  battery_level    brand  charging               created  \\\n",
       "0    arm64-v8a           40.0   Lenovo     False  2018-08-29T14:50:19Z   \n",
       "1    arm64-v8a           92.0  samsung     False  2018-08-29T12:12:19Z   \n",
       "2    arm64-v8a           41.0  samsung     False  2018-08-29T06:27:05Z   \n",
       "3    arm64-v8a           42.0  samsung     False  2018-08-29T06:15:35Z   \n",
       "4  armeabi-v7a           87.0  samsung     False  2018-08-28T11:11:56Z   \n",
       "\n",
       "     family  free_memory  free_storage  low_memory manufacturer   ...     \\\n",
       "0    Lenovo    719577088    4008108032       False       LENOVO   ...      \n",
       "1  SM-G955F   1189105664   36814761984       False      samsung   ...      \n",
       "2  SM-G955F   1083781120   36830056448       False      samsung   ...      \n",
       "3  SM-G955F   1049411584   36830810112       False      samsung   ...      \n",
       "4  SM-G390F    583737344    5412290560       False      samsung   ...      \n",
       "\n",
       "   model_id online orientation  screen_density screen_dpi  screen_resolution  \\\n",
       "0    NMF26F  False    portrait           1.000        160           1232x800   \n",
       "1     R16NW  False    portrait           2.625        420          2094x1080   \n",
       "2     R16NW  False    portrait           2.625        420          2094x1080   \n",
       "3     R16NW  False    portrait           2.625        420          2094x1080   \n",
       "4    NRD90M  False    portrait           2.000        320           1280x720   \n",
       "\n",
       "   simulator storage_size    type  version  \n",
       "0      False   9488670720  device    7.1.1  \n",
       "1      False  57960366080  device    8.0.0  \n",
       "2      False  57960366080  device    8.0.0  \n",
       "3      False  57960366080  device    8.0.0  \n",
       "4      False  12116492288  device      7.0  \n",
       "\n",
       "[5 rows x 22 columns]"
      ]
     },
     "execution_count": 66,
     "metadata": {},
     "output_type": "execute_result"
    }
   ],
   "source": [
    "data = json_normalize(event)\n",
    "type(data)\n",
    "print(data.shape)\n",
    "data.head()"
   ]
  },
  {
   "cell_type": "code",
   "execution_count": null,
   "metadata": {},
   "outputs": [],
   "source": []
  }
 ],
 "metadata": {
  "kernelspec": {
   "display_name": "Python 3",
   "language": "python",
   "name": "python3"
  },
  "language_info": {
   "codemirror_mode": {
    "name": "ipython",
    "version": 3
   },
   "file_extension": ".py",
   "mimetype": "text/x-python",
   "name": "python",
   "nbconvert_exporter": "python",
   "pygments_lexer": "ipython3",
   "version": "3.6.4"
  }
 },
 "nbformat": 4,
 "nbformat_minor": 2
}
